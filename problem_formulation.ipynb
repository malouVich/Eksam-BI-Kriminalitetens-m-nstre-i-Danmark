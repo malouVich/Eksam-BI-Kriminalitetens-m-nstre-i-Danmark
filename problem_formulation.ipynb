{
 "cells": [
  {
   "cell_type": "markdown",
   "id": "5a89d2b5-bc12-4202-b636-577e6d8a55d8",
   "metadata": {},
   "source": [
    "# Kriminalitetens mønstre i Danmark: BI og AI-analyse af dømtes baggrund og forbrydelser\n",
    "\n",
    "## Problemformulering\n",
    "Formålet med projektet er at analysere kriminalitet i Danmark ved at undersøge sammenhænge mellem alder, køn, social arv samt tiden og omfanget af forbrydelser.  \n",
    "Ved hjælp af Business Intelligence (BI) og Artificial Intelligence (AI) vil vi afdække mønstre i data om dømte personer, som kan bidrage til en dybere forståelse af kriminalitetens bagvedliggende faktorer.  \n",
    "\n",
    "## Annotation\n",
    "Vi ønsker at adressere udfordringen med at forstå, hvilke sociale og demografiske faktorer der har størst betydning for kriminalitet i Danmark.  \n",
    "Denne problemstilling er vigtig, da kriminalitet både har store samfundsøkonomiske konsekvenser og påvirker social tryghed.  \n",
    "Vores projekt kan bidrage med et BI- og AI-baseret analyseværktøj, der identificerer mønstre mellem alder, køn, social arv, samt typen og omfanget af forbrydelsen.  \n",
    "På sigt kan løsningen understøtte beslutningstagere, forskere og sociale institutioner i at udvikle forebyggende tiltag, som reducerer kriminalitet og fremmer social mobilitet.  \n",
    "\n",
    "## Forskningsspørgsmål\n",
    "- Hvordan fordeler kriminalitet sig i Danmark på alder, køn og social baggrund?  \n",
    "- Hvilken rolle spiller social arv i sandsynligheden for at begå kriminalitet?  \n",
    "- Kan man identificere mønstre i typen og alvorligheden af forbrydelser over tid?  \n",
    "\n",
    "## Hypoteser\n",
    "- Unge mænd med lav social baggrund er overrepræsenterede i kriminalitetsstatistikken.  \n",
    "- Social arv har en signifikant indflydelse på risikoen for at begå kriminalitet.  \n",
    "- Visse forbrydelsestyper topper i specifikke aldersgrupper og perioder.  \n",
    "\n",
    "## Projektplan\n",
    "**Titel:** *Kriminalitetens mønstre i Danmark: BI og AI-analyse af dømtes baggrund og forbrydelser*  \n",
    "\n",
    "**Milestones:**  \n",
    "- Uge 1: Research og dataindsamling  \n",
    "- Uge 2: Dataklargøring (rensning, strukturering)  \n",
    "- Uge 3: Analyse og modelbygning (BI-visualisering, AI-mønsteranalyse)  \n",
    "- Uge 4: Evaluering og præsentation af resultater  \n",
    "\n",
    "**Teamwork (eksempel):**  \n",
    "- Dataindsamling og dokumentation: Person A  \n",
    "- Databehandling og analyse: Person B  \n",
    "- Visualiseringer og formidling: Person C  \n",
    "- Projektledelse og rapportskrivning: Person D  \n",
    "\n",
    "**Udviklingsplatform:**  \n",
    "- GitHub til versionsstyring og dokumentation  \n",
    "- Python (Jupyter Notebook, Pandas, Scikit-learn, seaborn) til analyse og AI  \n",
    "- IDE: jupyter lab\n"
   ]
  },
  {
   "cell_type": "code",
   "execution_count": null,
   "id": "255b5745-f93e-41a4-ac6b-67e581701c2e",
   "metadata": {},
   "outputs": [],
   "source": []
  }
 ],
 "metadata": {
  "kernelspec": {
   "display_name": "Python [conda env:base] *",
   "language": "python",
   "name": "conda-base-py"
  },
  "language_info": {
   "codemirror_mode": {
    "name": "ipython",
    "version": 3
   },
   "file_extension": ".py",
   "mimetype": "text/x-python",
   "name": "python",
   "nbconvert_exporter": "python",
   "pygments_lexer": "ipython3",
   "version": "3.13.5"
  }
 },
 "nbformat": 4,
 "nbformat_minor": 5
}
